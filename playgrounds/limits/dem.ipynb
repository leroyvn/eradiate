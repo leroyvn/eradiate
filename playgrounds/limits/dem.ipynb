{
 "cells": [
  {
   "cell_type": "code",
   "execution_count": null,
   "metadata": {},
   "outputs": [],
   "source": [
    "import matplotlib.pyplot as plt\n",
    "import mitsuba as mi\n",
    "import numpy as np\n",
    "import xarray as xr\n",
    "\n",
    "import eradiate\n",
    "from eradiate.scenes.surface import mesh_from_dem\n",
    "from eradiate.units import unit_context_kernel as uck\n",
    "\n",
    "eradiate.set_mode(\"mono\")"
   ]
  },
  {
   "cell_type": "code",
   "execution_count": null,
   "metadata": {},
   "outputs": [],
   "source": [
    "ds = xr.open_dataset(\"dem/gebco_2024/GEBCO_2024.nc\").sel()\n",
    "display(ds)\n",
    "\n",
    "lon_bounds = [-5.255643817623447, -1.854804111820785]\n",
    "lat_bounds = [46.98286701217718, 49.02004225968674]\n",
    "\n",
    "lon = ds.lon.where((ds.lon > lon_bounds[0]) & (ds.lon < lon_bounds[1])).dropna(\n",
    "    dim=\"lon\"\n",
    ")\n",
    "lat = ds.lat.where((ds.lat > lat_bounds[0]) & (ds.lat < lat_bounds[1])).dropna(\n",
    "    dim=\"lat\"\n",
    ")\n",
    "\n",
    "brittany = ds.sel(lon=lon, lat=lat)\n",
    "brittany.elevation.plot.imshow()\n",
    "display(brittany)"
   ]
  },
  {
   "cell_type": "markdown",
   "metadata": {},
   "source": [
    "# Spherical-shell setup"
   ]
  },
  {
   "cell_type": "code",
   "execution_count": null,
   "metadata": {},
   "outputs": [],
   "source": [
    "da = brittany.elevation.copy()\n",
    "da *= 20\n",
    "da.lon.attrs[\"units\"] = \"deg\"\n",
    "da.lat.attrs[\"units\"] = \"deg\"\n",
    "mesh = mesh_from_dem(da, geometry=\"spherical_shell\")[0]"
   ]
  },
  {
   "cell_type": "code",
   "execution_count": null,
   "metadata": {},
   "outputs": [],
   "source": [
    "d = 750000.0\n",
    "r = eradiate.constants.EARTH_RADIUS.m_as(uck.get(\"length\"))\n",
    "x = np.array([0, 0, r])\n",
    "\n",
    "scene_dict = {\n",
    "    \"type\": \"scene\",\n",
    "    \"illumination\": {\"type\": \"directional\", \"direction\": [0, -1, -1]},\n",
    "    # \"illumination\": {\"type\": \"constant\"},\n",
    "    \"sensor\": {\n",
    "        \"type\": \"perspective\",\n",
    "        \"to_world\": mi.ScalarTransform4f.look_at(\n",
    "            origin=x + np.array([0, 0, d]),\n",
    "            target=x,\n",
    "            up=[0, 1, 0],\n",
    "        ),\n",
    "        \"far_clip\": 1e12,\n",
    "        \"film\": {\n",
    "            \"type\": \"hdrfilm\",\n",
    "            \"pixel_format\": \"luminance\",\n",
    "            \"component_format\": \"float32\",\n",
    "        },\n",
    "    },\n",
    "    \"integrator\": {\"type\": \"path\"},\n",
    "}\n",
    "scene_dict[\"mesh\"] = mesh.instance\n",
    "\n",
    "scene = mi.load_dict(scene_dict)\n",
    "img = mi.render(scene)\n",
    "\n",
    "plt.imshow(img)\n",
    "plt.axis(\"off\")\n",
    "plt.show()\n",
    "plt.close()"
   ]
  },
  {
   "cell_type": "markdown",
   "metadata": {},
   "source": [
    "# Plane-parallel setup"
   ]
  },
  {
   "cell_type": "code",
   "execution_count": null,
   "metadata": {},
   "outputs": [],
   "source": [
    "da = brittany.elevation.copy()\n",
    "da *= 20\n",
    "da.lon.attrs[\"units\"] = \"deg\"\n",
    "da.lat.attrs[\"units\"] = \"deg\"\n",
    "mesh = mesh_from_dem(da, geometry=\"plane_parallel\")[0]"
   ]
  },
  {
   "cell_type": "code",
   "execution_count": null,
   "metadata": {},
   "outputs": [],
   "source": [
    "d = 750000.0\n",
    "\n",
    "scene_dict = {\n",
    "    \"type\": \"scene\",\n",
    "    \"illumination\": {\"type\": \"directional\", \"direction\": [0, -1, -1]},\n",
    "    \"sensor\": {\n",
    "        \"type\": \"perspective\",\n",
    "        \"to_world\": mi.ScalarTransform4f.look_at(\n",
    "            origin=[0, 0, d],\n",
    "            target=[0, 0, 0],\n",
    "            up=[0, 1, 0],\n",
    "        ),\n",
    "        \"far_clip\": 1e12,\n",
    "        \"film\": {\n",
    "            \"type\": \"hdrfilm\",\n",
    "            \"pixel_format\": \"luminance\",\n",
    "            \"component_format\": \"float32\",\n",
    "        },\n",
    "    },\n",
    "    \"integrator\": {\"type\": \"path\"},\n",
    "}\n",
    "scene_dict[\"mesh\"] = mesh.instance\n",
    "\n",
    "scene = mi.load_dict(scene_dict)\n",
    "img = mi.render(scene)\n",
    "\n",
    "plt.imshow(img)\n",
    "plt.axis(\"off\")\n",
    "plt.show()\n",
    "plt.close()"
   ]
  }
 ],
 "metadata": {
  "kernelspec": {
   "display_name": "eradiate",
   "language": "python",
   "name": "python3"
  },
  "language_info": {
   "codemirror_mode": {
    "name": "ipython",
    "version": 3
   },
   "file_extension": ".py",
   "mimetype": "text/x-python",
   "name": "python",
   "nbconvert_exporter": "python",
   "pygments_lexer": "ipython3",
   "version": "3.9.19"
  }
 },
 "nbformat": 4,
 "nbformat_minor": 2
}
