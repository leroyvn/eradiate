{
 "cells": [
  {
   "cell_type": "code",
   "execution_count": null,
   "metadata": {},
   "outputs": [],
   "source": [
    "import matplotlib.pyplot as plt\n",
    "import mitsuba as mi\n",
    "import numpy as np\n",
    "import xarray as xr\n",
    "\n",
    "import eradiate\n",
    "from eradiate.scenes.surface import mesh_from_dem\n",
    "\n",
    "eradiate.set_mode(\"mono\")"
   ]
  },
  {
   "cell_type": "code",
   "execution_count": null,
   "metadata": {},
   "outputs": [],
   "source": [
    "# Make data\n",
    "x = np.arange(-5, 5, 0.25)\n",
    "y = np.arange(-5, 5, 0.25)\n",
    "X, Y = np.meshgrid(x, y)\n",
    "R = np.sqrt(X**2 + Y**2)\n",
    "Z = np.sin(R)\n",
    "\n",
    "dem = xr.DataArray(\n",
    "    data=Z,\n",
    "    coords={\n",
    "        \"x\": (\"x\", x, {\"units\": \"m\"}),\n",
    "        \"y\": (\"y\", y, {\"units\": \"m\"}),\n",
    "    },\n",
    "    attrs={\"units\": \"m\"},\n",
    ")\n",
    "dem.plot.imshow()\n",
    "mesh = mesh_from_dem(dem, geometry=\"plane_parallel\")[0]"
   ]
  },
  {
   "cell_type": "code",
   "execution_count": null,
   "metadata": {},
   "outputs": [],
   "source": [
    "# Make data\n",
    "x = np.arange(-1, 1, 0.25 / 5)\n",
    "y = np.arange(-1, 1, 0.25 / 5)\n",
    "X, Y = np.meshgrid(x * 5, y * 5)\n",
    "R = np.sqrt(X**2 + Y**2)\n",
    "Z = np.sin(R) / 200\n",
    "\n",
    "dem = xr.DataArray(\n",
    "    data=Z,\n",
    "    coords={\n",
    "        \"lon\": (\"lon\", x, {\"units\": \"deg\"}),\n",
    "        \"lat\": (\"lat\", y, {\"units\": \"deg\"}),\n",
    "    },\n",
    "    attrs={\"units\": \"m\"},\n",
    ")\n",
    "dem.plot.imshow()\n",
    "mesh = mesh_from_dem(dem, geometry=\"plane_parallel\", planet_radius=2.0)[0]"
   ]
  },
  {
   "cell_type": "code",
   "execution_count": null,
   "metadata": {},
   "outputs": [],
   "source": [
    "d = 0.05\n",
    "scene_dict = {\n",
    "    \"type\": \"scene\",\n",
    "    # \"illumination\": {\"type\": \"directional\", \"direction\": [0, -1, -1]},\n",
    "    \"illumination\": {\"type\": \"constant\"},\n",
    "    \"sensor\": {\n",
    "        \"type\": \"perspective\",\n",
    "        \"to_world\": mi.ScalarTransform4f.look_at(\n",
    "            origin=[1.5 * d, 1.5 * d, d],\n",
    "            target=[0, 0, 0],\n",
    "            up=[0, 0, 1],\n",
    "            # origin=[0, 0, d], target=[0, 0, 0], up=[0, 1, 0]\n",
    "        ),\n",
    "        \"far_clip\": 1e12,\n",
    "        \"film\": {\n",
    "            \"type\": \"hdrfilm\",\n",
    "            \"pixel_format\": \"luminance\",\n",
    "            \"component_format\": \"float32\",\n",
    "        },\n",
    "    },\n",
    "    \"integrator\": {\"type\": \"path\"},\n",
    "}\n",
    "scene_dict[\"mesh\"] = mesh.instance\n",
    "# scene_dict[\"north\"] = {\n",
    "#     \"type\": \"sphere\",\n",
    "#     \"center\": mi.Vector3f(0, 100000, 0),\n",
    "#     \"radius\": 10000,\n",
    "# }\n",
    "# scene_dict[\"east\"] = {\n",
    "#     \"type\": \"sphere\",\n",
    "#     \"center\": mi.Vector3f(100000, 0, 0),\n",
    "#     \"radius\": 10000,\n",
    "# }\n",
    "\n",
    "scene = mi.load_dict(scene_dict)\n",
    "img = mi.render(scene)\n",
    "\n",
    "plt.imshow(img)"
   ]
  },
  {
   "cell_type": "code",
   "execution_count": null,
   "metadata": {},
   "outputs": [],
   "source": [
    "mesh.instance"
   ]
  },
  {
   "cell_type": "code",
   "execution_count": null,
   "metadata": {},
   "outputs": [],
   "source": []
  }
 ],
 "metadata": {
  "kernelspec": {
   "display_name": "eradiate",
   "language": "python",
   "name": "python3"
  },
  "language_info": {
   "codemirror_mode": {
    "name": "ipython",
    "version": 3
   },
   "file_extension": ".py",
   "mimetype": "text/x-python",
   "name": "python",
   "nbconvert_exporter": "python",
   "pygments_lexer": "ipython3",
   "version": "3.9.19"
  }
 },
 "nbformat": 4,
 "nbformat_minor": 2
}
