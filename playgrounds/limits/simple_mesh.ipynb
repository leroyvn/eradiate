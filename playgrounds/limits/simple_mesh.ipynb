{
 "cells": [
  {
   "cell_type": "code",
   "execution_count": null,
   "metadata": {},
   "outputs": [],
   "source": [
    "import matplotlib.pyplot as plt\n",
    "import numpy as np\n",
    "import scipy.spatial as scp"
   ]
  },
  {
   "cell_type": "code",
   "execution_count": null,
   "metadata": {},
   "outputs": [],
   "source": [
    "x = np.linspace(-1, 1, 4)\n",
    "y = np.linspace(-1, 1, 3)\n",
    "x_grid, y_grid = np.meshgrid(x, y)\n",
    "z_grid = np.ones_like(x_grid)\n",
    "\n",
    "vertices = np.array((x_grid.ravel(), y_grid.ravel())).T\n",
    "print(vertices.shape)"
   ]
  },
  {
   "cell_type": "code",
   "execution_count": null,
   "metadata": {},
   "outputs": [],
   "source": [
    "tri = scp.Delaunay(vertices)\n",
    "fig, ax = plt.subplots(1, 1)\n",
    "ax.axis(\"equal\")\n",
    "ax.triplot(vertices[:, 0], vertices[:, 1], tri.simplices)"
   ]
  },
  {
   "cell_type": "code",
   "execution_count": null,
   "metadata": {},
   "outputs": [],
   "source": [
    "# Build grid indexes to select respective triangle vertices\n",
    "def _vertex_indices(xi, yi, xstride):\n",
    "    return xi + xstride * yi\n",
    "\n",
    "\n",
    "def triangulate_grid(x, y, flip=False, divide=\"nesw\"):\n",
    "    \"\"\"\n",
    "    Create a 2D triangulation for a regular (x, y) grid.\n",
    "\n",
    "    Parameters\n",
    "    ----------\n",
    "    \"\"\"\n",
    "    x_grid, y_grid = np.meshgrid(x, y)\n",
    "    vertices = np.array((x_grid.ravel(), y_grid.ravel())).T\n",
    "\n",
    "    xi = np.arange(0, len(x), 1, dtype=\"int\")\n",
    "    yi = np.arange(0, len(y), 1, dtype=\"int\")\n",
    "\n",
    "    xg, yg = np.meshgrid(xi[:-1], yi[:-1])\n",
    "    vertices_sw = _vertex_indices(xg.ravel(), yg.ravel(), xstride=len(x))\n",
    "\n",
    "    xg, yg = np.meshgrid(xi[1:], yi[:-1])\n",
    "    vertices_se = _vertex_indices(xg.ravel(), yg.ravel(), xstride=len(x))\n",
    "\n",
    "    xg, yg = np.meshgrid(xi[:-1], yi[1:])\n",
    "    vertices_nw = _vertex_indices(xg.ravel(), yg.ravel(), xstride=len(x))\n",
    "\n",
    "    xg, yg = np.meshgrid(xi[1:], yi[1:])\n",
    "    vertices_ne = _vertex_indices(xg.ravel(), yg.ravel(), xstride=len(x))\n",
    "\n",
    "    if divide == \"nesw\":\n",
    "        face_indices_1 = np.array((vertices_sw, vertices_ne, vertices_se)).T\n",
    "        face_indices_2 = np.array((vertices_sw, vertices_nw, vertices_ne)).T\n",
    "    elif divide == \"nwse\":\n",
    "        face_indices_1 = np.array((vertices_sw, vertices_se, vertices_nw)).T\n",
    "        face_indices_2 = np.array((vertices_nw, vertices_se, vertices_ne)).T\n",
    "\n",
    "    faces = np.concatenate((face_indices_1, face_indices_2))\n",
    "\n",
    "    if flip:\n",
    "        faces = faces[:, [0, 2, 1]]\n",
    "\n",
    "    return vertices, faces\n",
    "\n",
    "\n",
    "vertices, faces = triangulate_grid(x, y, divide=\"nwse\")\n",
    "print(vertices.tolist())\n",
    "print(faces.tolist())"
   ]
  },
  {
   "cell_type": "code",
   "execution_count": null,
   "metadata": {},
   "outputs": [],
   "source": [
    "fig, axs = plt.subplots(2, 2)\n",
    "\n",
    "for irow, flip in enumerate([False, True]):\n",
    "    for icol, divide in enumerate([\"nwse\", \"nesw\"]):\n",
    "        vertices, faces = triangulate_grid(x, y, flip, divide)\n",
    "\n",
    "        ax = axs[irow, icol]\n",
    "        ax.axis(\"equal\")\n",
    "        ax.triplot(vertices[:, 0], vertices[:, 1], faces)\n",
    "\n",
    "plt.show()\n",
    "plt.close()"
   ]
  },
  {
   "cell_type": "code",
   "execution_count": null,
   "metadata": {},
   "outputs": [],
   "source": []
  }
 ],
 "metadata": {
  "kernelspec": {
   "display_name": "eradiate",
   "language": "python",
   "name": "python3"
  },
  "language_info": {
   "codemirror_mode": {
    "name": "ipython",
    "version": 3
   },
   "file_extension": ".py",
   "mimetype": "text/x-python",
   "name": "python",
   "nbconvert_exporter": "python",
   "pygments_lexer": "ipython3",
   "version": "3.9.19"
  }
 },
 "nbformat": 4,
 "nbformat_minor": 2
}
