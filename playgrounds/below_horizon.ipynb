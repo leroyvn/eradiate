{
 "cells": [
  {
   "cell_type": "code",
   "execution_count": null,
   "id": "c2fed122-cc56-4ce9-b523-c67711f28203",
   "metadata": {},
   "outputs": [],
   "source": [
    "%reload_ext eradiate\n",
    "%reload_ext eradiate.notebook.tutorials\n",
    "\n",
    "import os\n",
    "from itertools import zip_longest\n",
    "\n",
    "import numpy as np\n",
    "import matplotlib.pyplot as plt\n",
    "import xarray as xr\n",
    "\n",
    "import eradiate\n",
    "from eradiate import unit_registry as ureg\n",
    "\n",
    "eradiate.set_mode(\"mono\")\n",
    "eradiate.config.progress = 1"
   ]
  },
  {
   "cell_type": "code",
   "execution_count": null,
   "id": "9d0ffba6-cd19-49a1-8c9a-1fb97730cce1",
   "metadata": {},
   "outputs": [],
   "source": [
    "def exp(sza, geometry=\"spherical_shell\"):\n",
    "    origin = (\n",
    "        [0, 0,eradiate.constants.EARTH_RADIUS.m_as(ureg.m)] * ureg.m \n",
    "        if geometry == \"spherical_shell\" \n",
    "        else [0, 0, 0] * ureg.m\n",
    "    )\n",
    "    vertical = np.array([0, 0, 1])\n",
    "    \n",
    "    return eradiate.experiments.AtmosphereExperiment(\n",
    "        geometry=geometry,\n",
    "        atmosphere={\n",
    "            \"type\": \"molecular\",\n",
    "            \"construct\": \"ussa_1976\",\n",
    "        },\n",
    "        illumination={\n",
    "            \"type\": \"directional\",\n",
    "            \"zenith\": sza,\n",
    "            \"azimuth\": 180,\n",
    "        },\n",
    "        measures={\n",
    "            \"type\": \"perspective\", \n",
    "            \"origin\": origin + [100, 0, 1] * ureg.km,\n",
    "            \"target\": origin + [0, 0, 10] * ureg.km,\n",
    "            \"up\": vertical,\n",
    "            \"film_resolution\": (320, 160),\n",
    "            \"spectral_cfg\": {\"wavelengths\": [440, 550, 660] * ureg.nm},\n",
    "            \"sampler\": \"ldsampler\",\n",
    "            \"spp\": 64,\n",
    "        }\n",
    "    )"
   ]
  },
  {
   "cell_type": "code",
   "execution_count": null,
   "id": "51883e19-018c-4bfb-8641-312c83fdc4fc",
   "metadata": {},
   "outputs": [],
   "source": [
    "result = []\n",
    "\n",
    "for geometry in [\"spherical_shell\", \"plane_parallel\"]:\n",
    "    for sza in np.array([0, 30, 60, 85, 90, 95]) * ureg.deg:\n",
    "        print(f\"{geometry = }, {sza = :~}\")\n",
    "        ds = eradiate.run(exp(sza, geometry), spp=256)\n",
    "        result.append(ds.expand_dims({\"geometry\": [geometry]}).copy())"
   ]
  },
  {
   "cell_type": "code",
   "execution_count": null,
   "id": "a24b819e-b0ad-4767-9832-73feda413c15",
   "metadata": {},
   "outputs": [],
   "source": [
    "ds = xr.combine_by_coords(result, combine_attrs=\"drop\")\n",
    "ds"
   ]
  },
  {
   "cell_type": "code",
   "execution_count": null,
   "id": "a58a634b-8f2f-4e73-a0c8-9b02f5833b85",
   "metadata": {},
   "outputs": [],
   "source": [
    "ncols = 3\n",
    "nrows = 2\n",
    "\n",
    "for geometry in ds.geometry.values:\n",
    "    print(f\"{geometry = }\")\n",
    "    fig, axs = plt.subplots(ncols, nrows, figsize=(8, 6.5))\n",
    "\n",
    "    for sza, ax in zip_longest(ds.sza.values, axs.flat, fillvalue=None):\n",
    "        if ax is None:\n",
    "            raise RuntimeError(f\"Not enough axes to continue plotting, stopping at {sza = }\")\n",
    "\n",
    "        ax.axis(\"off\")\n",
    "\n",
    "        if sza is None:\n",
    "            continue\n",
    "\n",
    "        ax.imshow(\n",
    "            eradiate.xarray.interp.dataarray_to_rgb(\n",
    "                ds.radiance.sel(geometry=geometry, sza=sza),\n",
    "                channels=[(\"w\", 660), (\"w\", 550), (\"w\", 440)],\n",
    "            ),\n",
    "        )\n",
    "        sza *= ureg.deg\n",
    "        ax.set_title(f\"{sza = :~}\")\n",
    "\n",
    "    fname = f\"plots/below_horizon_{geometry}.png\"\n",
    "    os.makedirs(os.path.dirname(fname), exist_ok=True)\n",
    "    plt.savefig(fname, bbox_inches=\"tight\")\n",
    "    plt.show()\n",
    "    plt.close()"
   ]
  },
  {
   "cell_type": "code",
   "execution_count": null,
   "id": "c3ef2821-2e93-4f33-ad7a-35422741785e",
   "metadata": {},
   "outputs": [],
   "source": []
  }
 ],
 "metadata": {
  "kernelspec": {
   "display_name": "Python 3 (ipykernel)",
   "language": "python",
   "name": "python3"
  },
  "language_info": {
   "codemirror_mode": {
    "name": "ipython",
    "version": 3
   },
   "file_extension": ".py",
   "mimetype": "text/x-python",
   "name": "python",
   "nbconvert_exporter": "python",
   "pygments_lexer": "ipython3",
   "version": "3.8.16"
  }
 },
 "nbformat": 4,
 "nbformat_minor": 5
}
