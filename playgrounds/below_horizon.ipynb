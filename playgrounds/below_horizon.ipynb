{
 "cells": [
  {
   "cell_type": "code",
   "execution_count": null,
   "id": "c2fed122-cc56-4ce9-b523-c67711f28203",
   "metadata": {},
   "outputs": [],
   "source": [
    "%reload_ext eradiate\n",
    "%reload_ext eradiate.notebook.tutorials\n",
    "\n",
    "import numpy as np\n",
    "import matplotlib.pyplot as plt\n",
    "import xarray as xr\n",
    "\n",
    "import eradiate\n",
    "from eradiate import unit_registry as ureg\n",
    "\n",
    "eradiate.set_mode(\"mono\")\n",
    "eradiate.config.progress = 1"
   ]
  },
  {
   "cell_type": "code",
   "execution_count": null,
   "id": "9d0ffba6-cd19-49a1-8c9a-1fb97730cce1",
   "metadata": {},
   "outputs": [],
   "source": [
    "origin = [0, 0,eradiate.constants.EARTH_RADIUS.m_as(ureg.m)] * ureg.m\n",
    "vertical = np.array([0, 0, 1])\n",
    "\n",
    "def exp(sza):\n",
    "    return eradiate.experiments.AtmosphereExperiment(\n",
    "        geometry=\"spherical_shell\",\n",
    "        atmosphere={\n",
    "            \"type\": \"molecular\",\n",
    "            \"construct\": \"ussa_1976\",\n",
    "        },\n",
    "        illumination={\n",
    "            \"type\": \"directional\",\n",
    "            \"zenith\": sza,\n",
    "            \"azimuth\": 180,\n",
    "        },\n",
    "        measures={\n",
    "            \"type\": \"perspective\", \n",
    "            \"origin\": origin + [100, 0, 0] * ureg.km,\n",
    "            \"target\": origin + [0, 0, 10] * ureg.km,\n",
    "            \"up\": vertical,\n",
    "            \"film_resolution\": (32, 16),\n",
    "            \"spectral_cfg\": {\"wavelengths\": [440, 550, 660] * ureg.nm}\n",
    "        }\n",
    "    )"
   ]
  },
  {
   "cell_type": "code",
   "execution_count": null,
   "id": "51883e19-018c-4bfb-8641-312c83fdc4fc",
   "metadata": {},
   "outputs": [],
   "source": [
    "result = []\n",
    "for sza in np.arange(0, 96, 10) * ureg.deg:\n",
    "    print(f\"{sza = :~}\")\n",
    "    result.append(eradiate.run(exp(sza), spp=100).copy())"
   ]
  },
  {
   "cell_type": "code",
   "execution_count": null,
   "id": "a24b819e-b0ad-4767-9832-73feda413c15",
   "metadata": {},
   "outputs": [],
   "source": [
    "ds = xr.combine_by_coords(result, combine_attrs=\"drop\")\n",
    "ds"
   ]
  },
  {
   "cell_type": "code",
   "execution_count": null,
   "id": "a58a634b-8f2f-4e73-a0c8-9b02f5833b85",
   "metadata": {},
   "outputs": [],
   "source": [
    "for sza in ds.sza.values:\n",
    "    \n",
    "    plt.imshow(\n",
    "        eradiate.xarray.interp.dataarray_to_rgb(\n",
    "            ds.radiance.sel(sza=sza),\n",
    "            channels=[(\"w\", 660), (\"w\", 550), (\"w\", 440)],\n",
    "        ),\n",
    "    )\n",
    "    plt.axis(\"off\")\n",
    "    sza *= ureg.deg\n",
    "    plt.title(f\"{sza = :~}\")\n",
    "    plt.show()\n",
    "    plt.close()"
   ]
  },
  {
   "cell_type": "code",
   "execution_count": null,
   "id": "693f5952-d1e9-45d0-af5a-e7f5f3ab86d5",
   "metadata": {},
   "outputs": [],
   "source": [
    "origin = [0, 0, 0] * ureg.m\n",
    "\n",
    "exp = eradiate.experiments.AtmosphereExperiment(\n",
    "    atmosphere={\n",
    "        \"type\": \"molecular\",\n",
    "        \"construct\": \"ussa_1976\",\n",
    "    },\n",
    "    illumination={\n",
    "        \"type\": \"directional\",\n",
    "        \"zenith\": 85,\n",
    "        \"azimuth\": 0,\n",
    "    },\n",
    "    measures={\n",
    "        \"type\": \"perspective\", \n",
    "        \"origin\": origin + [10, 0, 0] * ureg.km,\n",
    "        \"target\": origin + [0, 0, 1] * ureg.km,\n",
    "        \"up\": [0, 0, 1],\n",
    "        \"film_resolution\": (32, 16),\n",
    "        \"spectral_cfg\": {\"wavelengths\": [440, 550, 660] * ureg.nm}\n",
    "    }\n",
    ")\n",
    "\n",
    "result = eradiate.run(exp, spp=1000)\n",
    "plt.imshow(\n",
    "    eradiate.xarray.interp.dataarray_to_rgb(\n",
    "        result.radiance,\n",
    "        channels=[(\"w\", 660), (\"w\", 550), (\"w\", 440)],\n",
    "        normalize=True,\n",
    "    ),\n",
    ")"
   ]
  },
  {
   "cell_type": "code",
   "execution_count": null,
   "id": "203d2e7d-6000-4d32-b288-8665ecdb1d8d",
   "metadata": {},
   "outputs": [],
   "source": []
  }
 ],
 "metadata": {
  "kernelspec": {
   "display_name": "Python 3 (ipykernel)",
   "language": "python",
   "name": "python3"
  },
  "language_info": {
   "codemirror_mode": {
    "name": "ipython",
    "version": 3
   },
   "file_extension": ".py",
   "mimetype": "text/x-python",
   "name": "python",
   "nbconvert_exporter": "python",
   "pygments_lexer": "ipython3",
   "version": "3.8.16"
  }
 },
 "nbformat": 4,
 "nbformat_minor": 5
}
