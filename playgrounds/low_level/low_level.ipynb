{
 "cells": [
  {
   "cell_type": "code",
   "execution_count": null,
   "metadata": {},
   "outputs": [],
   "source": [
    "%reload_ext rich\n",
    "\n",
    "import mitsuba as mi\n",
    "\n",
    "import eradiate\n",
    "import eradiate.experiments._low_level as ll\n",
    "from eradiate import unit_registry as ureg\n",
    "from eradiate.contexts import KernelContext\n",
    "from eradiate.kernel._kernel_dict_new import (\n",
    "    KernelDictionary,\n",
    "    KernelSceneParameterFlag,\n",
    "    KernelSceneParameterMap,\n",
    "    mi_render,\n",
    "    scene_parameter,\n",
    ")\n",
    "\n",
    "eradiate.set_mode(\"mono\")"
   ]
  },
  {
   "cell_type": "code",
   "execution_count": null,
   "metadata": {},
   "outputs": [],
   "source": [
    "display(KernelDictionary())\n",
    "display(KernelSceneParameterMap())"
   ]
  },
  {
   "cell_type": "code",
   "execution_count": null,
   "metadata": {},
   "outputs": [],
   "source": [
    "@scene_parameter(flags=KernelSceneParameterFlag.SPECTRAL)\n",
    "def spectrum_lambertian(ctx: KernelContext):\n",
    "    if ctx.si.w == 440.0 * ureg.nm:\n",
    "        return 0.1\n",
    "    elif ctx.si.w == 550.0 * ureg.nm:\n",
    "        return 0.5\n",
    "    elif ctx.si.w == 660.0 * ureg.nm:\n",
    "        return 0.9\n",
    "    else:\n",
    "        return 0.0\n",
    "\n",
    "\n",
    "exp = ll.CoreExperiment(\n",
    "    kdict={\n",
    "        \"bsdf_surface\": {\"type\": \"diffuse\", \"reflectance\": 0.5, \"id\": \"lambertian\"},\n",
    "        \"surface\": {\"type\": \"rectangle\", \"bsdf\": {\"type\": \"ref\", \"id\": \"lambertian\"}},\n",
    "        \"illumination\": {\"type\": \"directional\", \"direction\": [0, 0, -1]},\n",
    "        \"camera\": {\n",
    "            \"type\": \"perspective\",\n",
    "            \"to_world\": mi.ScalarTransform4f.look_at(\n",
    "                origin=[3, 3, 3],\n",
    "                target=[0, 0, 0],\n",
    "                up=[0, 0, 1],\n",
    "            ),\n",
    "        },\n",
    "        \"integrator\": {\"type\": \"path\"},\n",
    "    },\n",
    "    kpmap={\"lambertian.reflectance.value\": spectrum_lambertian},\n",
    ")\n",
    "display(exp)\n",
    "display(exp.mi_scene)\n",
    "mi_params = exp.mi_params\n",
    "print(mi_params)"
   ]
  },
  {
   "cell_type": "code",
   "execution_count": null,
   "metadata": {},
   "outputs": [],
   "source": [
    "kpmap = exp.kpmap_full().render(KernelContext({\"w\": 660.0}))\n",
    "display(kpmap)\n",
    "mi_params.update(kpmap)\n",
    "mi_params"
   ]
  },
  {
   "cell_type": "code",
   "execution_count": null,
   "metadata": {},
   "outputs": [],
   "source": [
    "import mitsuba as mi\n",
    "\n",
    "mi.Bitmap(mi.render(exp.mi_scene))"
   ]
  },
  {
   "cell_type": "code",
   "execution_count": null,
   "metadata": {},
   "outputs": [],
   "source": [
    "ctxs = [KernelContext({\"w\": w}) for w in [440.0, 550.0, 660.0]]\n",
    "display(ctxs)\n",
    "mi_render(exp.mi_scene, exp.mi_params, exp.kpmap_full(), ctxs)"
   ]
  },
  {
   "cell_type": "code",
   "execution_count": null,
   "metadata": {},
   "outputs": [],
   "source": []
  }
 ],
 "metadata": {
  "kernelspec": {
   "display_name": "eradiate",
   "language": "python",
   "name": "python3"
  },
  "language_info": {
   "codemirror_mode": {
    "name": "ipython",
    "version": 3
   },
   "file_extension": ".py",
   "mimetype": "text/x-python",
   "name": "python",
   "nbconvert_exporter": "python",
   "pygments_lexer": "ipython3",
   "version": "3.9.19"
  }
 },
 "nbformat": 4,
 "nbformat_minor": 2
}
